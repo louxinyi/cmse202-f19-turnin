{
 "cells": [
  {
   "cell_type": "markdown",
   "metadata": {},
   "source": [
    "### <p style=\"text-align: right;\"> &#9989; Xinyi Lou.</p>"
   ]
  },
  {
   "cell_type": "markdown",
   "metadata": {},
   "source": [
    "# Homework Assignment #1 (Individual)\n",
    "## Git Practice, Debugging Practice, Modeling World Population, and Writing Python Scripts\n"
   ]
  },
  {
   "cell_type": "markdown",
   "metadata": {},
   "source": [
    "### Goals for this homework assignment\n",
    "By the end of this assignment, you should be able to:\n",
    "* Use Git to create a repository, track changes to the files within the repository, and push those changes to a remote repository.\n",
    "* Debug Python code.\n",
    "* Work with Python data structures (e.g. lists and numpy arrays) to create a simple population growth model.\n",
    "* Make plots of your model using <code>matplotlib</code>.\n",
    "* Practice writing and executing a Python script.\n",
    "\n",
    "### Assignment instructions\n",
    "\n",
    "Work through the following assignment, making sure to follow all of the directions and answer all of the questions.\n",
    "\n",
    "There are **25 points** possible on this assignment. Point values for each part are included in the section headers.\n",
    "\n",
    "**This assignment is due roughly one and half weeks from now at 11:59pm on Friday, September 13.** It should be uploaded into the \"Homework Assignments\" submission folder for Homework #1.  Submission instructions can be found at the end of the notebook."
   ]
  },
  {
   "cell_type": "markdown",
   "metadata": {},
   "source": [
    "---\n",
    "## Part 1: Setting up a git repository to track your progress on your assignment (5 points)\n",
    "\n",
    "For this assignment, you're going to add it to the `cmse202-f19-turnin` repository you created in class so that you can track your progress on the assignment and preserve the final version that you turn in. In order to do this you need to:\n",
    "\n",
    "1. Navigate to your `cmse202-f19-turnin` repository and create a new directory called `hw-01`.\n",
    "2. Move this notebook into that **new directory** in your repository, then **add it and commit it to your repository**.\n",
    "1. Finally, to test that everything is working, \"git push\" the file so that it ends up in your GitHub repository.\n",
    "\n",
    "**Important**: Make sure you've added your Professor and your TA as collaborators to your \"turnin\" respository with \"Read\" access so that we can see your assignment. For Section 001, you should add users \"chenmi22\" and \"linkmat1\". For Section 002, you should add users \"punch\" and \"polanco2\".\n",
    "\n",
    "**Also important**: Make sure that the version of this notebook that you are working on is the same one that you just added to your repository! If you are working on a different copy of the noteobok, **none of your changes will be tracked**.\n",
    "\n",
    "If everything went as intended, the file should now show up on your GitHub account in the \"`cmse202-f19-turnin`\" repository inside the `hw-01` directory that you just created.  Periodically, **you'll be asked to commit your changes to the repository and push them to the remote GitHub location**. Of course, you can always commit your changes more often than that, if you wish.  It can be good to get into a habit of committing your changes any time you make a significant modification, or when you stop working on the project for a bit."
   ]
  },
  {
   "cell_type": "markdown",
   "metadata": {},
   "source": [
    "---\n",
    "\n",
    "---\n",
    "\n",
    "## Part 2: Debugging code: understanding error messages (6 points)\n",
    "\n",
    "For the next part of this assignment, you're going to presented with a variety of code bugs and your job is to fix them."
   ]
  },
  {
   "cell_type": "markdown",
   "metadata": {},
   "source": [
    "### Fixing errors\n",
    "\n",
    "**Question**: Resolve the errors in the following pieces of code and add a comment that explains what was wrong in the first place."
   ]
  },
  {
   "cell_type": "code",
   "execution_count": 2,
   "metadata": {
    "scrolled": true
   },
   "outputs": [
    {
     "name": "stdout",
     "output_type": "stream",
     "text": [
      "The value of i is 0\n",
      "The value of i is 1\n",
      "The value of i is 2\n",
      "The value of i is 3\n",
      "The value of i is 4\n",
      "The value of i is 5\n",
      "The value of i is 6\n",
      "The value of i is 7\n",
      "The value of i is 8\n",
      "The value of i is 9\n"
     ]
    }
   ],
   "source": [
    "# Syntax bug: There should be a colon in \"for loop\".\n",
    "for i in range(10):\n",
    "    print(\"The value of i is %i\" %i)"
   ]
  },
  {
   "cell_type": "code",
   "execution_count": 5,
   "metadata": {},
   "outputs": [
    {
     "name": "stdout",
     "output_type": "stream",
     "text": [
      "The value of the fraction is 5.000000\n"
     ]
    }
   ],
   "source": [
    "# The denominator could not be zero.\n",
    "def compute_fraction(numerator, denominator):\n",
    "    fraction = numerator/denominator\n",
    "    print(\"The value of the fraction is %f\" %fraction)\n",
    "    \n",
    "compute_fraction(5, 1)"
   ]
  },
  {
   "cell_type": "code",
   "execution_count": 6,
   "metadata": {},
   "outputs": [
    {
     "name": "stdout",
     "output_type": "stream",
     "text": [
      "The value of the fraction is 0.040000\n"
     ]
    }
   ],
   "source": [
    "# \"one\" is a string and could not be calculated.\n",
    "def compute_fraction(numerator, denominator):\n",
    "    fraction = numerator/denominator\n",
    "    print(\"The value of the fraction is %f\" %fraction)\n",
    "    \n",
    "compute_fraction(1, 25)"
   ]
  },
  {
   "cell_type": "code",
   "execution_count": 8,
   "metadata": {},
   "outputs": [
    {
     "name": "stdout",
     "output_type": "stream",
     "text": [
      "The value of the 10th element is 9\n"
     ]
    }
   ],
   "source": [
    "# When locate the element in array, we should use \"[]\"\n",
    "import numpy as np\n",
    "\n",
    "n = np.arange(20)\n",
    "print(\"The value of the 10th element is %d\" %n[9])"
   ]
  },
  {
   "cell_type": "code",
   "execution_count": 10,
   "metadata": {},
   "outputs": [
    {
     "name": "stdout",
     "output_type": "stream",
     "text": [
      "1\n",
      "3\n",
      "5\n",
      "7\n",
      "9\n",
      "2\n",
      "4\n",
      "6\n",
      "8\n",
      "10\n"
     ]
    }
   ],
   "source": [
    "# type error?\n",
    "odd = [1, 3, 5, 7, 9]\n",
    "even = [2, 4, 6, 8, 10]\n",
    "\n",
    "for i in odd:\n",
    "    print(i)\n",
    "    \n",
    "for j in even:\n",
    "    print(j)"
   ]
  },
  {
   "cell_type": "code",
   "execution_count": 12,
   "metadata": {},
   "outputs": [
    {
     "name": "stdout",
     "output_type": "stream",
     "text": [
      "hola\n",
      "uno dos tres\n",
      "naranja\n"
     ]
    }
   ],
   "source": [
    "# It didn't define translation of \"orange\"\n",
    "spanish = dict()\n",
    "spanish['hello'] = 'hola'\n",
    "spanish['yes'] = 'si'\n",
    "spanish['one'] = 'uno'\n",
    "spanish['two'] = 'dos'\n",
    "spanish['three'] = 'tres'\n",
    "spanish['red'] = 'rojo'\n",
    "spanish['black'] = 'negro'\n",
    "spanish['green'] = 'verde'\n",
    "spanish['blue'] = 'azul'\n",
    "spanish['orange'] = 'naranja'\n",
    "\n",
    "print(spanish[\"hello\"])\n",
    "print(spanish[\"one\"], spanish[\"two\"], spanish[\"three\"])\n",
    "print(spanish[\"orange\"])"
   ]
  },
  {
   "cell_type": "markdown",
   "metadata": {},
   "source": [
    "---\n",
    "### STOP\n",
    "Take a moment to save your notebook, commit the changes to your Git repository using the commit message \"Finished Part 2\", and push the changes to GitHub.\n",
    "\n",
    "---"
   ]
  },
  {
   "cell_type": "markdown",
   "metadata": {},
   "source": [
    "---\n",
    "## Part 3: Modeling  population growth (14 points)\n",
    "\n",
    "In this part of the assignment, you'll develop a model of world population growth. The United Nations has recently come out with some updated predictions on world population growth that shows the slowing of growth, reaching a maximum of 11 billion in 2100 with a potential decline worldwide beginning then. This is in contrast to dire predictions of uncontrolled growth from the 1960's on beginning with the book \"The Population Bomb\" (https://en.wikipedia.org/wiki/The_Population_Bomb). While overall growth depends primarily on two factors: birth rate and death rate, it is the change in the birth rate that is driving this change. In particular, as women worldwide achieve more wealth and education, they are having fewer children beginning later in life.\n",
    "\n",
    "<img src=\"https://i.imgur.com/rvNszAw.png\" alt=\"UN world growth graph\" width=\"700px\"/>\n",
    "\n",
    "You'll start out with the simplest possible model and then you'll add bit of complexity to the model and see how it changes the results.\n",
    "\n",
    "### 3.1 A Simple model (3 points)\n",
    "\n",
    "For this part of the assignment, you're going to write a program that models world population growth based on a simple value, the annual rate of growth (*gr*). This growth rate summarizes the changes in birth and death rates and measures the annual change to a population every year thus:\n",
    "\n",
    "$$ nextPop = prevPop + (prevPop * gr) $$\n",
    "\n",
    "Note that *gr* can be negative and, if so, results in a population decline.\n",
    "\n",
    "Your code should take in the name of a file to open that has exactly the following file format (we provide *worldpop.csv* as an example.)\n",
    "* one line\n",
    "* the first field contains the starting world population value (beginning in the year 2020) in millions. It is an integer\n",
    "* the subsequent values are 16 gr values, starting with 2020, and subsequently every 5 years until 2100\n",
    "    * the *gr* values are floating point values\n",
    "* all values are comma separated, csv, files. \n",
    "\n",
    "**You goal is to plot the *world population* values beginning in 2020 until 2100 (inclusive). Also print the final world population in 2100.**\n",
    "\n",
    "### Important Notes\n",
    "First, the *gr* values given are **percentages**. Thus 0.98 (the first *gr* value in *worldpop.txt*) represents the actual value 0.0098.\n",
    "\n",
    "Second, the *gr* values represent **yearly** growth. But you only get new *gr* values every 5 years. For now let us assume that the *gr* value remains unchanged (has the same value) for each 5 year interval\n",
    "\n",
    "**Code up a solution to this simple model. Make sure to clearly state the assumptions you use in your model and create a plot showing your resulting model.**\n"
   ]
  },
  {
   "cell_type": "markdown",
   "metadata": {},
   "source": [
    "**My model assumptions are...** (edit this cell and explain your assumptions here)"
   ]
  },
  {
   "cell_type": "code",
   "execution_count": 1,
   "metadata": {},
   "outputs": [
    {
     "data": {
      "text/plain": [
       "array([7.726735e+06, 1.090000e+00, 9.800000e-01, 8.700000e-01,\n",
       "       7.800000e-01, 6.900000e-01, 6.100000e-01, 5.300000e-01,\n",
       "       4.500000e-01, 3.800000e-01, 3.200000e-01, 2.700000e-01,\n",
       "       2.200000e-01, 1.800000e-01, 1.400000e-01, 1.100000e-01,\n",
       "       8.000000e-02, 4.000000e-02])"
      ]
     },
     "execution_count": 1,
     "metadata": {},
     "output_type": "execute_result"
    }
   ],
   "source": [
    "#\n",
    "# Put your code here\n",
    "#\n",
    "# Import the data \"worldpop.csv\"\n",
    "\n",
    "import numpy as np \n",
    "worldpop = np.loadtxt(\"worldpop.csv\", unpack=True, skiprows = 0, delimiter=',')\n",
    "worldpop\n"
   ]
  },
  {
   "cell_type": "code",
   "execution_count": 10,
   "metadata": {},
   "outputs": [
    {
     "data": {
      "image/png": "[encoded data removed]",
      "text/plain": [
       "<Figure size 432x288 with 1 Axes>"
      ]
     },
     "metadata": {
      "needs_background": "light"
     },
     "output_type": "display_data"
    }
   ],
   "source": [
    "import matplotlib.pyplot as plt\n",
    "%matplotlib inline\n",
    "\n",
    "Init_Pop = worldpop[0]\n",
    "gr = worldpop[1:18]\n",
    "\n",
    "Pop = []\n",
    "Pop.append(Init_Pop + Init_Pop*gr[0])\n",
    "for i in range(1,len(gr)):\n",
    "    Pop.append( Pop[-1] * (1+gr[i]) )\n",
    "\n",
    "time = np.arange(2020,2101,5)\n",
    "plt.plot(time, Pop)\n",
    "plt.title(\"World Population from 2020 to 2100\")\n",
    "plt.xlabel('time')\n",
    "plt.ylabel('Population')\n",
    "plt.grid(True)"
   ]
  },
  {
   "cell_type": "markdown",
   "metadata": {},
   "source": [
    "---\n",
    "### STOP\n",
    "Take a moment to save your notebook, commit the changes to your Git repository using the commit message \"Finished Part 3.1\", and push the changes to GitHub.\n",
    "\n",
    "---"
   ]
  },
  {
   "cell_type": "markdown",
   "metadata": {},
   "source": [
    "### 3.2 Building a Model (3 points)\n",
    "\n",
    "We have data points for the *gr* values but we have not created a model based on them. Let's do that now. We could try to do a curve fit to the points, but for now we are going to linearly interpolate between the `gr` points by year. You may or may not have done a linear interpolation before, so here is a review of how linear interpolation works:\n",
    "\n",
    "Given two points $x_0, y_0$ and $x_1, y_1$ we can use the following equation to predict a y-value given a particular x-value in the range of $x_0 - x_1$\n",
    "\n",
    "$$ y = \\frac{y_0(x_1 - x) + y_1(x - x_0)}{x_1-x_0} $$\n",
    "\n",
    "You could do this yourself, but if you believe in Python you have to guess someone has already done that for you. They have! Look at https://docs.scipy.org/doc/numpy/reference/generated/numpy.interp.html for details, but the basics is this. \n",
    "\n",
    "`numpy.interp(newX, xrange, yrange)` yields the predicted y-value from the `newX` value. Let's redo the calculations above but now collect data for **each year** between 2020 and 2100 (inclusive) and generate a new *gr* value **for each year** from the 5-year values given and our linear interpolation.\n",
    "\n",
    "If we use new variable names, we can keep the ones used above and do a nice comparison. You don't need to open the file again either (though by doing things in this way we develop a linear dependency on the cells above being evaluated)."
   ]
  },
  {
   "cell_type": "code",
   "execution_count": 13,
   "metadata": {},
   "outputs": [
    {
     "name": "stdout",
     "output_type": "stream",
     "text": [
      "[0.04, 0.25, 0.46, 0.6700000000000002, 0.8800000000000001, 1.09, 1.068, 1.046, 1.024, 1.002, 0.98, 0.958, 0.9359999999999999, 0.9139999999999999, 0.892, 0.87, 0.852, 0.834, 0.8160000000000001, 0.798, 0.78, 0.762, 0.744, 0.726, 0.708, 0.69, 0.6739999999999999, 0.6579999999999999, 0.642, 0.626, 0.61, 0.594, 0.578, 0.562, 0.546, 0.53, 0.514, 0.498, 0.482, 0.466, 0.45, 0.436, 0.422, 0.40800000000000003, 0.394, 0.38, 0.368, 0.356, 0.344, 0.332, 0.32, 0.31, 0.3, 0.29000000000000004, 0.28, 0.27, 0.26, 0.25, 0.24, 0.23, 0.22, 0.212, 0.204, 0.196, 0.188, 0.18, 0.172, 0.164, 0.156, 0.14800000000000002, 0.14, 0.134, 0.128, 0.122, 0.116, 0.11, 0.104, 0.098, 0.092, 0.086, 0.08, 0.07200000000000001, 0.064, 0.056, 0.048]\n"
     ]
    }
   ],
   "source": [
    "#\n",
    "# Put your code here\n",
    "#\n",
    "\n",
    "new_gr = []\n",
    "\n",
    "for i in range(len(gr)):\n",
    "    xrange = [1,6]\n",
    "    yrange = [gr[i-1],gr[i]]\n",
    "    for j in range(1,6):\n",
    "        new_gr.append(np.interp(j,xrange,yrange))\n",
    "\n",
    "print(new_gr)"
   ]
  },
  {
   "cell_type": "markdown",
   "metadata": {},
   "source": [
    "*Comment on results here!*"
   ]
  },
  {
   "cell_type": "markdown",
   "metadata": {},
   "source": [
    "---\n",
    "### STOP\n",
    "Take a moment to save your notebook, commit the changes to your Git repository using the commit message \"Finished Part 3.2\", and push the changes to GitHub.\n",
    "\n",
    "---"
   ]
  },
  {
   "cell_type": "markdown",
   "metadata": {},
   "source": [
    "### 3.3 A More Detailed Model (8 points)\n",
    "\n",
    "It turns out the the world is not just a single value, but in fact a multitude of different nations. The models for different parts of the world are quite different and we should take account of them in our models. \n",
    "\n",
    "We provide a new file `regionpop.csv` with the following (similar) format:\n",
    "\n",
    "* six lines, one from each region. For each line\n",
    "    * the first field contains the name of the region\n",
    "    * the second field contains the starting region population value (beginning in the year 2020) in millions. It is an integer\n",
    "    * the subsequent values are 16 gr values, starting with 2020, and subsequently every 5 years until 2100\n",
    "        * the *gr* values are floating point values\n",
    "* all values are comma separated, csv, files. \n",
    "\n",
    "Redo the linear interpolation and population prediction done above for each region. Plot all six regions in the same graph. Provide a legend. Do a nice job of creating the plot (size, labels, etc.).\n",
    "\n",
    "**Note**: All plots should be saved as PNG files and include appropriate axis labels!\n",
    "\n",
    "For this part of the assignment, you're going to write your code as a script that you will call `run_model.py`. **You'll need to create this script, add it to your repository, and commit it to make sure it gets pushed to GitHub along with your notebook.**\n",
    "\n",
    "Your instructor should be able to simply run the following on the command line to execute your code:\n",
    "\n",
    "`$python run_model.py`"
   ]
  },
  {
   "cell_type": "code",
   "execution_count": null,
   "metadata": {},
   "outputs": [],
   "source": []
  },
  {
   "cell_type": "markdown",
   "metadata": {},
   "source": [
    "---\n",
    "### STOP\n",
    "Once your script is done, add and commit the script to your Git repository using the commit message \"Adding script for Part 3.3\", and push the changes to GitHub.\n",
    "\n",
    "---"
   ]
  },
  {
   "cell_type": "markdown",
   "metadata": {},
   "source": [
    "**Question**: Does your more sophisticated model agree with the results for your simpler model? What are the major differences between the two models? Respond in the cell below."
   ]
  },
  {
   "cell_type": "markdown",
   "metadata": {},
   "source": [
    "*Put you answer here*"
   ]
  },
  {
   "cell_type": "markdown",
   "metadata": {},
   "source": [
    "---\n",
    "### Assignment wrap-up\n",
    "\n",
    "Please fill out the form that appears when you run the code below.  **You must completely fill this out in order to receive credit for the assignment!**"
   ]
  },
  {
   "cell_type": "code",
   "execution_count": null,
   "metadata": {},
   "outputs": [],
   "source": [
    "from IPython.display import HTML\n",
    "HTML(\n",
    "\"\"\"\n",
    "<iframe \n",
    "\tsrc=\"https://forms.gle/RiqmrLMa9m4fu3ZN6\" \n",
    "\twidth=\"800px\" \n",
    "\theight=\"600px\" \n",
    "\tframeborder=\"0\" \n",
    "\tmarginheight=\"0\" \n",
    "\tmarginwidth=\"0\">\n",
    "\tLoading...\n",
    "</iframe>\n",
    "\"\"\"\n",
    ")"
   ]
  },
  {
   "cell_type": "markdown",
   "metadata": {},
   "source": [
    "### Congratulations, you're done!\n",
    "\n",
    "Submit this assignment by uploading it to the course Desire2Learn web page.  Go to the \"Homework Assignments\" folder, find the dropbox link for Homework #1, and upload it there."
   ]
  },
  {
   "cell_type": "markdown",
   "metadata": {},
   "source": [
    "&#169; Copyright 2018,  Michigan State University Board of Trustees"
   ]
  }
 ],
 "metadata": {
  "anaconda-cloud": {},
  "kernelspec": {
   "display_name": "Python 3",
   "language": "python",
   "name": "python3"
  },
  "language_info": {
   "codemirror_mode": {
    "name": "ipython",
    "version": 3
   },
   "file_extension": ".py",
   "mimetype": "text/x-python",
   "name": "python",
   "nbconvert_exporter": "python",
   "pygments_lexer": "ipython3",
   "version": "3.7.0"
  }
 },
 "nbformat": 4,
 "nbformat_minor": 4
}
