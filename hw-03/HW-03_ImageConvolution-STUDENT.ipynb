{
 "cells": [
  {
   "cell_type": "markdown",
   "metadata": {},
   "source": [
    "### <p style=\"text-align: right;\"> &#9989; Xinyi Lou.</p>"
   ]
  },
  {
   "cell_type": "markdown",
   "metadata": {},
   "source": [
    "# Homework Assignment #3 (Individual)\n",
    "Goals for this homework assignment\n",
    "\n",
    "By the end of this assignment, you should be able to:\n",
    "- Continue developing functions to break down the steps in solving a problem\n",
    "- Work with multi-dimensional arrays\n",
    "- Improve your skills in using numpy\n",
    "- Get some basic experience with Image Processing\n",
    "- Learn convolution\n",
    "\n",
    "### Assignment instructions\n",
    "\n",
    "Work through the following assignment, making sure to follow all of the directions and answer all of the questions.\n",
    "\n",
    "There are **30 points** possible on this assignment. Point values for each part are included in the section headers.\n",
    "\n",
    "This assignment is due at **11:59 pm on Sunday, October 20**. It should be uploaded into the \"Homework Assignments\" submission folder for Homework #3. Submission instructions can be found at the end of the notebook.\n"
   ]
  },
  {
   "cell_type": "markdown",
   "metadata": {},
   "source": [
    "---\n",
    "## Before you begin: Add to your Git repository to track your progress on your assignment (5 points)\n",
    "\n",
    "For this assignment, you're going to add it to the `cmse202-f19-turnin` repository you created in class so that you can track your progress on the assignment and preserve the final version that you turn in. In order to do this you need to:\n",
    "\n",
    "1. Navigate to your `cmse202-f19-turnin` repository and create a new directory called `hw-03`.\n",
    "2. Move this notebook into that **new directory** in your repository, then **add it and commit it to your repository**.\n",
    "1. Finally, to test that everything is working, \"git push\" the file so that it ends up in your GitHub repository.\n",
    "\n",
    "**Important**: Make sure you've added your Professor and your TA as collaborators to your \"turnin\" respository with \"Read\" access so that we can see your assignment.\n",
    "\n",
    "**Also important**: Make sure that the version of this notebook that you are working on is the same one that you just added to your repository! If you are working on a different copy of the noteobok, **none of your changes will be tracked**!\n",
    "\n",
    "If everything went as intended, the file should now show up on your GitHub account in the \"`cmse202-f19-turnin`\" repository inside the `hw-03` directory that you just created.  Periodically, **you'll be asked to commit your changes to the repository and push them to the remote GitHub location**. Of course, you can always commit your changes more often than that, if you wish.  It can be good to get into a habit of committing your changes any time you make a significant modification, or when you stop working on the project for a bit."
   ]
  },
  {
   "cell_type": "markdown",
   "metadata": {},
   "source": [
    "---\n",
    "## Digital Images\n",
    "\n",
    "The video below can help you remember a bit about how a digital image is represented"
   ]
  },
  {
   "cell_type": "code",
   "execution_count": null,
   "metadata": {},
   "outputs": [],
   "source": [
    "from IPython.display import YouTubeVideo\n",
    "YouTubeVideo(\"15aqFQQVBWU\",width=640,height=360)"
   ]
  },
  {
   "cell_type": "markdown",
   "metadata": {},
   "source": [
    "Some important aspects of digital images (with respect to display on a video screen specifically):\n",
    "\n",
    "An image is represented as a matrix of values where each value represents the display content for an individual pixel on a digital screen\n",
    "- the dimensions of the matrix are the dimensions of the pixels that constitute image. That is, each value maps to a particular pixel\n",
    "- If the image is a *greyscale* image (no color, only shades of grey), then we use 2D matrix where the 2D location is the location of the pixel in the image and the value at that 2D location is greyscale value. Greyscale values range between 0-255, where 0 is black and 255 is white. Each pixel takes on a greyscale value based on those integer values\n",
    "- If the image is a *color* image, then (typically) the array is a 3D matrix where the third dimension has three values representing the red, green and blue content of that pixel. Each color *channel* takes on a value between 0-255\n",
    "\n",
    "Images below from https://ai.stanford.edu/~syyeung/cvweb/tutorial1.html"
   ]
  },
  {
   "cell_type": "markdown",
   "metadata": {},
   "source": [
    "<table> <tr> \n",
    "    <td> <img src=\"https://i.imgur.com/4jDEygv.png\" width=500> </td> \n",
    "    <td> <img src=\"https://i.imgur.com/1jwpnE1.png\"> </td> \n",
    "</tr> </table>"
   ]
  },
  {
   "cell_type": "markdown",
   "metadata": {},
   "source": [
    "## Working with Images in Python\n",
    "\n",
    "It turns out that there are a number of ways to work in an image in Python. However, too many choices can make things confusing so I'm going to pick a particular approach. Feel free to explore others.\n",
    "\n",
    "There is an imaging library know as `PIL` (caps matter here). What's weird about `PIL` is that it represents an old library that was abandoned but later picked up (forked to be computer-sciencey) under the name *pillow* . However, `pillow` is imported using the old name `PIL` to maintain compatibiliy with old code. So you have to be careful that you have `pillow` as a library even though we still `import PIL`. Anaconda has done that for us but it is good to know, especially if you look up reference material (which should be under *pillow*, not *PIL*). Get all that?\n",
    "\n",
    "There are only a couple of aspects we need of pillow/PIL for our work, and here they are:\n",
    "\n",
    "- we would really like to use the `Image` class in `PIL`, so we need to `import Image from PIL`. Again, caps matter here\n",
    "- the `Image.open(filename)` will return an `Image` instance from an image file, assuming it can find the file\n",
    "- if you create an `Image` instance, let's call it `img`, then `img.show()` should display the image. (Note: it should pop up a window outside of your notebook)\n",
    "- to gather the underlying matrix from the image instance `img`, you can use `numpy` (which you obviously have to import), as in `numpy.asarray(img)`\n",
    "- to create an image instance from a matrix, you can do `Image.fromarray(yourarray)`\n",
    "- to convert an image from greyscale to RGB(color) you use the `.convert` method. \n",
    "   - `img.convert('L')` (\"L\" for luminosity) returns a greyscale image. \n",
    "   - `img.convert('RGB')` returns a color image\n",
    "\n",
    "There are clearly lots of other things you can do, but this should get us started. "
   ]
  },
  {
   "cell_type": "markdown",
   "metadata": {},
   "source": [
    "---\n",
    "### Exercise, 5 pts\n",
    "\n",
    "I provide a little image for us to work with from https://en.wikipedia.org/wiki/Kernel_(image_processing). I named the image `oscar.png` (he looks like an oscar). Write code to do the following:\n",
    "\n",
    "1. open `oscar.png` as described\n",
    "1. display the image (should be in color)\n",
    "1. convert the image to greyscale.\n",
    "1. get the underlying matrix from the greyscale image and print its shape\n",
    "1. change the middle pixel of the matrix to be pure black. This is not as easy as it sounds because you cannot, by default, write to the array. You need to make a copy and then write. How do you make a copy of a NumPy array?\n",
    "1. create a new image from the array and display it. Greyscale Oscar should have a little black dot in the middle of its face. (you might have to make the image a lot larger to see the dot, the oscar image is a small image)"
   ]
  },
  {
   "cell_type": "code",
   "execution_count": null,
   "metadata": {},
   "outputs": [],
   "source": [
    "## write your code here\n"
   ]
  },
  {
   "cell_type": "markdown",
   "metadata": {},
   "source": [
    "---\n",
    "### STOP\n",
    "Take a moment to save your notebook, commit the changes to your Git repository using the commit message \"Finished first exercise\", and push the changes to GitHub.\n",
    "\n",
    "---"
   ]
  },
  {
   "cell_type": "markdown",
   "metadata": {},
   "source": [
    "---\n",
    "## Working with numpy\n",
    "\n",
    "We've worked with numpy before but it's good to remember some of the basics and potentially introduce some new elements we have either forgotten or not worked with before. **Review the following code and make sure you understand all of it**."
   ]
  },
  {
   "cell_type": "code",
   "execution_count": null,
   "metadata": {},
   "outputs": [],
   "source": [
    "import numpy as np\n",
    "lst = [1,2,3]\n",
    "ary = np.array(lst)      # make an array from a list\n",
    "print(ary)\n",
    "# 2D array, explictly set the type to float\n",
    "ary2d = np.array([ [1,2,3], [4,5,6], [7,8,9], [10,11,12]], dtype=np.float64)\n",
    "print(ary2d)"
   ]
  },
  {
   "cell_type": "markdown",
   "metadata": {},
   "source": [
    "### Making arrays\n",
    "\n",
    "There are a lot of ways to make some default arrays. You can look at the docs but here are some useful ones:\n",
    "\n",
    "- `np.arange(start, stop, increment)` make an array with value from `start` up to *but not including* `stop` as incremented by `increment`\n",
    "- `np.linspace(start, stop, count)` creates `count` values evenly spaced between `start` and `stop` *inclusive*\n",
    "- you can rehape a range to a particular dimension. `np.arange(27).reshape(3,3,3)` creates a 3D array of 3 rows, each row with 3 column, each column with 3 values. The value `27` implies the range of `0,27,1`\n",
    "- you can make various special arrays:\n",
    "   - `np.zeros( tuple )` creates an array of zeros in the shape indicated by the tuple\n",
    "   - `np.ones( tuple )` like `zeros` except fills the array with ones\n",
    "   - `np.zeros_like(ary)` creates an array of the same size and shape as `ary`\n",
    "   - `np.ones_like(ary)` same as `zeros_like` but with ones.\n",
    "   - `np.full( tuple, value)` create an array in the shape ov `tuple` put `value` in each location"
   ]
  },
  {
   "cell_type": "markdown",
   "metadata": {},
   "source": [
    "### Slicing\n",
    "\n",
    "We can \"slice\" a numpy array in various ways to gather rows or columns or some subset of the numpy array which is very useful. One thing to remember is the idea of a range as indicated by the `:`. A `:` by itself is the entire index range, a value like `0:2` is the index range from 0 *up to but not including 2* . We also remember that indexing begins with 0: thus the first element in the index is at row 0. We can also use `-1` (or some other negative value) to index starting with the last value. \n",
    "\n",
    "We index into the array using multiple `[ ]` operators or commas in the `[ ]`. Thus `ary2d[0][1]` is the first row, 2nd value in the row. We can have as many `[ ]` operators as there are dimensions in the array. Instead of multiple `[ ]` we can also use commas within the brackets. Thus `ary2d[0,0]` and `ary2d[0][0]` are equivalent. The comma approach is typically used.\n",
    "\n",
    "Continuing with our `array2d` from above **review the following code and make sure you understand it**:"
   ]
  },
  {
   "cell_type": "code",
   "execution_count": null,
   "metadata": {},
   "outputs": [],
   "source": [
    "slice = ary2d[:,0]  # for all rows, only the first column\n",
    "print(slice)\n",
    "slice = ary2d[0:2, 0:2] # rows 0 and 1, of those rows columns 0 and 1\n",
    "print(slice)"
   ]
  },
  {
   "cell_type": "markdown",
   "metadata": {},
   "source": [
    "### Array operators\n",
    "\n",
    "We can use regular arithmetic operators with NumPy arrays, but we have to understand what those operators mean. \n",
    "\n",
    "- if we use an operator on an array with a single value, we are asking numpy to apply that operator, with the single value operator, on *each value* in the array, yielding a new array. \n",
    "- if we use an operator on two arrays *of the same shape*, then each element uses the operator on its associated argument creating a new array of the same shape and size\n",
    "- you can assign one array to another, but you must have the same shapes. You can assign a smaller array into a larger array if you specify the smaller arrays shape as the target of where to put it in the larger array\n",
    "\n",
    "Again, **review the following code and make sure you understand it**."
   ]
  },
  {
   "cell_type": "code",
   "execution_count": null,
   "metadata": {},
   "outputs": [],
   "source": [
    "ary2d_times3 = ary2d * 3.0\n",
    "print(ary2d_times3)\n",
    "ary2d_squares = ary2d * ary2d\n",
    "print(ary2d_squares)\n",
    "ary2d_shape = ary2d.shape\n",
    "zeros = np.zeros( (ary2d_shape[0] + 1, ary2d_shape[1]+1) )\n",
    "zeros[0:-1, 0:-1] = ary2d # slice and ary2d shape match\n",
    "print(zeros)"
   ]
  },
  {
   "cell_type": "markdown",
   "metadata": {},
   "source": [
    "---\n",
    "### Exercise, 5 pts\n",
    "\n",
    "Let's see if we can do some NumPy manipulation to get us ready for the main problem. Do the following:\n",
    "\n",
    "1. extract the greyscale array from oscar.png as above into `ary`\n",
    "1. create an array `slice`, a 4x4 array from the top, left corner of `ary`\n",
    "    - print `slice`\n",
    "1. multiply every element of `slice` by 2\n",
    "    - print the new array"
   ]
  },
  {
   "cell_type": "code",
   "execution_count": null,
   "metadata": {},
   "outputs": [],
   "source": [
    "# write your code here\n"
   ]
  },
  {
   "cell_type": "markdown",
   "metadata": {},
   "source": [
    "When you print `slice * 2`, did you get the values you expected? Why or why not?\n",
    "**Hint** look at `ary.dtype` and `slice.dtype`. What are the range of values for that type? What happens if you go above or below that type's max/min (try it)? If you were to explicitly make `slice` a different type (look up how you would do that, perhaps np.int64), do you get the values you expect? Answer these questions below."
   ]
  },
  {
   "cell_type": "markdown",
   "metadata": {},
   "source": [
    "<font size=\"20px\">&#9998;</font> Write your answers in this cell."
   ]
  },
  {
   "cell_type": "markdown",
   "metadata": {},
   "source": [
    "#### Continuing on:\n",
    "\n",
    "1. create a 3x3 array `mask` where each value in the array has the value 3\n",
    "   - don't make it by hand, use a numpy operation\n",
    "   - make its `dtype` `np.int64`\n",
    "   - print `mask`\n",
    "1. create `product` by multiplying `mask` by the top left of `slice`. Match the shapes!\n",
    "   - print `product`\n",
    "1. assign `product` the value of the bottom right portion of `slice` * `mask`\n",
    "   - print `product`\n",
    "1. assign to `slice` in the top,left corner the value of `mask`\n",
    "   - print `slice`"
   ]
  },
  {
   "cell_type": "code",
   "execution_count": null,
   "metadata": {},
   "outputs": [],
   "source": [
    "## write your code here\n"
   ]
  },
  {
   "cell_type": "markdown",
   "metadata": {},
   "source": [
    "---\n",
    "### STOP\n",
    "Take a moment to save your notebook, commit the changes to your Git repository using the commit message \"Finished second exercise\", and push the changes to GitHub.\n",
    "\n",
    "---"
   ]
  },
  {
   "cell_type": "markdown",
   "metadata": {},
   "source": [
    "---\n",
    "## Convolution\n",
    "\n",
    "We did all this so we could get to the real problem: image convolution. Image convolution involves \"filtering\" each value of an image array through a much smaller array called variously a mask, a filter, a kernel. In so doing the values of each element in image array is modified. Let's look at a picture first:\n",
    "\n",
    "<img src=\"https://i.imgur.com/NOHAy38.png\">"
   ]
  },
  {
   "cell_type": "markdown",
   "metadata": {},
   "source": [
    "The idea is simple. To perform the convolution:\n",
    "\n",
    "1. You create masks (for us, always a 3x3 mask) that we use to filter the image.\n",
    "1. For each pixel value, we multiply the mask times the 8 neighbors surrounding the pixel and the pixel itself.\n",
    "1. We then sum up the values of the product and place in the filtered image the resulting value\n",
    "\n",
    "As the picture shows, it's possible to create a new value that is \"out of range\" of the 0-255 value assumed by the image. We have choices here, but the easiest thing to do is to **clamp** them: if the value is greater than 255, we set the pixel value to 255; less than 0, set it to 0."
   ]
  },
  {
   "cell_type": "markdown",
   "metadata": {},
   "source": [
    "### Exercise, 15 pts\n",
    "\n",
    "Write the following functions and place them in a script file called \"convolve.py\". You will submit the script as part of this assignment. **Once you're written your script, important the functions and use them in this notebook to show that they work.**\n",
    "\n",
    "1. `get_array(fname)` : open the image file represented by `fname`, **return** the greyscale array of that file\n",
    "    - What happens if the file cannot be opened?\n",
    "   \n",
    "1. `convolve (image_array, mask, div=1, whiten=0)` : convolve the `mask` across all the pixels of the `image_array`. After convolution, each new pixel value is subsequently divided by `div` and has the value `whiten` added to it all **before** the value is clamped into range. For the purposes of `div` and `whiten` see below. **Return** a *new image* using the convolved array.\n",
    "\n",
    "1. a set of four functions that call `convolve` with particular masks. Each returns the image provided by the call to `convolve`\n",
    "\n",
    "   - `sharpen(image_array)`. Call `convolve` with the 3x3 mask [ [0,-1,0], [-1,5,-1], [0,-1,0] ]\n",
    "   - `emboss(image_array)` . Call `convolve` with the 3x3 mask [ [-2, -1, 0], [-1, 1, 1], [0, 1, 2]]\n",
    "   - `edge_detect(image_array)` . Call `convolve` with th 3x3 mask [ [0,1,0], [1,-4,1], [0,1,0] ]. Because these images can get dark, provide a `whiten` argument of 50\n",
    "   - `blur(image_array)` . Call `convolve` with the 3x3 mask ([ [1,1,1], [1,1,1], [1,1,1]]. Because these images can be over-bright, provide a `div` argument of 9"
   ]
  },
  {
   "cell_type": "markdown",
   "metadata": {},
   "source": [
    "### Convolution Notes\n",
    "\n",
    "Here are some things you might want to pay attention to as you work on the convolution part:\n",
    "\n",
    "**Borders**: The mask can have portions located off the image array, for example when determinng the top,left pixel. Typically one assumes a 0 for values of the image that are outside of the image, but how to enforce that:\n",
    "- write your multiplication logic to watch for border states\n",
    "- add 0's as a border all around the image.\n",
    "The latter is perhaps easier but it requires that you track your movement of the mask and array a little more closely\n",
    "\n",
    "**Types**: Types have an effect on the operation of arrays. We implied this above with the discussion of `np.int64`. Watch that you are getting what you expect. For example, one kind of bad result are some random \"noise\" like pixels spread through your image. \n",
    "\n",
    "**Test in the small**: If you test your work on a real image, even the oscar image, and it doesn't quite work, how can you determine what went wrong? It can be hard. Skip the image and test on some very small 2D array (5x5) with values that you know and understand. Get that to work and then test an image.\n",
    "\n",
    "Then test with a small image like oscar. The page https://en.wikipedia.org/wiki/Kernel_(image_processing) should help you see the results you expected.\n",
    "\n",
    "**Slow**: Python can be slow, even when using numpy to its best advantage. For big images, it can take a few seconds, and if you did it inefficiently even longer. Start with small images, oscar is a good example."
   ]
  },
  {
   "cell_type": "code",
   "execution_count": null,
   "metadata": {},
   "outputs": [],
   "source": [
    "# Import and run your script functions here.\n"
   ]
  },
  {
   "cell_type": "markdown",
   "metadata": {},
   "source": [
    "---\n",
    "### STOP\n",
    "Take a moment to save your notebook, **add your script to your repository**, and commit the changes to your Git repository using the commit message \"Finished third exercise\", and push the changes to GitHub.\n",
    "\n",
    "---"
   ]
  },
  {
   "cell_type": "markdown",
   "metadata": {},
   "source": [
    "---\n",
    "### Assignment wrap-up\n",
    "\n",
    "Please fill out the form that appears when you run the code below.  **You must completely fill this out in order to receive credit for the assignment!**"
   ]
  },
  {
   "cell_type": "code",
   "execution_count": null,
   "metadata": {},
   "outputs": [],
   "source": [
    "from IPython.display import HTML\n",
    "HTML(\n",
    "\"\"\"\n",
    "<iframe \n",
    "\tsrc=\"https://forms.gle/42KmqotDw3VTun5y6\" \n",
    "\twidth=\"800px\" \n",
    "\theight=\"600px\" \n",
    "\tframeborder=\"0\" \n",
    "\tmarginheight=\"0\" \n",
    "\tmarginwidth=\"0\">\n",
    "\tLoading...\n",
    "</iframe>\n",
    "\"\"\"\n",
    ")"
   ]
  },
  {
   "cell_type": "markdown",
   "metadata": {},
   "source": [
    "### Congratulations, you're done!\n",
    "\n",
    "Submit this assignment by uploading it to the course Desire2Learn web page.  Go to the \"Homework Assignments\" folder, find the dropbox link for Homework #3, and upload your notebook **and the script you wrote**."
   ]
  },
  {
   "cell_type": "markdown",
   "metadata": {},
   "source": [
    "&#169; Copyright 2019,  Michigan State University Board of Trustees"
   ]
  }
 ],
 "metadata": {
  "kernelspec": {
   "display_name": "Python 3",
   "language": "python",
   "name": "python3"
  },
  "language_info": {
   "codemirror_mode": {
    "name": "ipython",
    "version": 3
   },
   "file_extension": ".py",
   "mimetype": "text/x-python",
   "name": "python",
   "nbconvert_exporter": "python",
   "pygments_lexer": "ipython3",
   "version": "3.7.0"
  }
 },
 "nbformat": 4,
 "nbformat_minor": 4
}
